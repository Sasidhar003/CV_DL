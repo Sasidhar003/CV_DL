{
  "nbformat": 4,
  "nbformat_minor": 0,
  "metadata": {
    "colab": {
      "provenance": [],
      "authorship_tag": "ABX9TyMJNNQWKjBuvEYFpMrajufV",
      "include_colab_link": true
    },
    "kernelspec": {
      "name": "python3",
      "display_name": "Python 3"
    },
    "language_info": {
      "name": "python"
    }
  },
  "cells": [
    {
      "cell_type": "markdown",
      "metadata": {
        "id": "view-in-github",
        "colab_type": "text"
      },
      "source": [
        "<a href=\"https://colab.research.google.com/github/Sasidhar003/CV_DL/blob/main/CNN_Tensorflow.ipynb\" target=\"_parent\"><img src=\"https://colab.research.google.com/assets/colab-badge.svg\" alt=\"Open In Colab\"/></a>"
      ]
    },
    {
      "cell_type": "code",
      "execution_count": null,
      "metadata": {
        "id": "GP0nuqa2FZON"
      },
      "outputs": [],
      "source": [
        "import os\n",
        "import tensorflow as tf\n",
        "from tensorflow import keras\n",
        "from tensorflow.keras import layers\n",
        "from tensorflow.keras.datasets import cifar10"
      ]
    },
    {
      "cell_type": "code",
      "source": [
        "#Load Data\n",
        "(x_train, y_train), (x_test, y_test) = cifar10.load_data()\n",
        "x_train = x_train.astype(\"float32\")/255.0\n",
        "x_test = x_test.astype(\"float32\")/255.0"
      ],
      "metadata": {
        "id": "VVEB-uqIHYWu"
      },
      "execution_count": null,
      "outputs": []
    },
    {
      "cell_type": "code",
      "source": [
        "model = keras.Sequential(\n",
        "    [\n",
        "        keras.Input(shape=(32,32,3)),\n",
        "        layers.Conv2D(32, 3, padding = \"valid\", activation = \"relu\"),\n",
        "        layers.MaxPooling2D(),\n",
        "        layers.Conv2D(64, 3, padding = \"valid\", activation = \"relu\"),\n",
        "        layers.MaxPooling2D(),\n",
        "        layers.Conv2D(128,3, padding = \"valid\", activation = \"relu\"),\n",
        "        layers.Flatten(),\n",
        "        layers.Dense(64, activation = \"relu\"),\n",
        "        layers.Dense(10)\n",
        "    ]\n",
        ")"
      ],
      "metadata": {
        "id": "GC0VcshZI1a7"
      },
      "execution_count": null,
      "outputs": []
    },
    {
      "cell_type": "code",
      "source": [
        "def my_model():\n",
        "    inputs = keras.Input(shape=(32, 32, 3))\n",
        "    x = layers.Conv2D(32, 3)(inputs)\n",
        "    x = layers.BatchNormalization()(x)\n",
        "    x = keras.activations.relu(x)\n",
        "    x = layers.MaxPooling2D()(x)\n",
        "    x = layers.Conv2D(64, 3)(x)\n",
        "    x = layers.BatchNormalization()(x)\n",
        "    x = keras.activations.relu(x)\n",
        "    x = layers.MaxPooling2D()(x)\n",
        "    x = layers.Conv2D(128, 3)(x)\n",
        "    x = layers.BatchNormalization()(x)\n",
        "    x = keras.activations.relu(x)\n",
        "    x = layers.Flatten()(x)\n",
        "    x = layers.Dense(86, activation=\"relu\")(x)\n",
        "    x = layers.Dense(64, activation=\"relu\")(x)\n",
        "    x = layers.Dense(32, activation=\"relu\")(x)\n",
        "    x = layers.Dense(24, activation=\"relu\")(x)\n",
        "    outputs = layers.Dense(10)(x)\n",
        "    model = keras.Model(inputs=inputs, outputs=outputs)\n",
        "    return model"
      ],
      "metadata": {
        "id": "RV7a0exrUI7c"
      },
      "execution_count": null,
      "outputs": []
    },
    {
      "cell_type": "code",
      "source": [
        "model = my_model()\n",
        "model.compile(\n",
        "    loss = keras.losses.SparseCategoricalCrossentropy(from_logits = True),\n",
        "    optimizer = keras.optimizers.Adam(lr = 3e-4),\n",
        "    metrics = [\"accuracy\"],\n",
        ")"
      ],
      "metadata": {
        "colab": {
          "base_uri": "https://localhost:8080/"
        },
        "id": "kar9V0J3LGrM",
        "outputId": "50d8f611-809b-45c6-9188-cf7ed816a464"
      },
      "execution_count": null,
      "outputs": [
        {
          "output_type": "stream",
          "name": "stderr",
          "text": [
            "WARNING:absl:`lr` is deprecated in Keras optimizer, please use `learning_rate` or use the legacy optimizer, e.g.,tf.keras.optimizers.legacy.Adam.\n"
          ]
        }
      ]
    },
    {
      "cell_type": "code",
      "source": [
        "model.fit(x_train, y_train, batch_size=64, epochs = 15, verbose = 2)"
      ],
      "metadata": {
        "id": "bEInb8PvN-lO",
        "colab": {
          "base_uri": "https://localhost:8080/"
        },
        "outputId": "497bbcf9-0501-4c91-b43c-b8de6ed916c3"
      },
      "execution_count": null,
      "outputs": [
        {
          "output_type": "stream",
          "name": "stdout",
          "text": [
            "Epoch 1/15\n",
            "782/782 - 75s - loss: 1.3538 - accuracy: 0.5121 - 75s/epoch - 95ms/step\n",
            "Epoch 2/15\n",
            "782/782 - 73s - loss: 0.9561 - accuracy: 0.6650 - 73s/epoch - 93ms/step\n",
            "Epoch 3/15\n",
            "782/782 - 73s - loss: 0.7875 - accuracy: 0.7252 - 73s/epoch - 93ms/step\n",
            "Epoch 4/15\n",
            "782/782 - 73s - loss: 0.6882 - accuracy: 0.7608 - 73s/epoch - 93ms/step\n",
            "Epoch 5/15\n",
            "782/782 - 72s - loss: 0.6033 - accuracy: 0.7909 - 72s/epoch - 92ms/step\n",
            "Epoch 6/15\n",
            "782/782 - 72s - loss: 0.5279 - accuracy: 0.8166 - 72s/epoch - 92ms/step\n",
            "Epoch 7/15\n",
            "782/782 - 73s - loss: 0.4626 - accuracy: 0.8388 - 73s/epoch - 93ms/step\n",
            "Epoch 8/15\n",
            "782/782 - 74s - loss: 0.4090 - accuracy: 0.8582 - 74s/epoch - 95ms/step\n",
            "Epoch 9/15\n",
            "782/782 - 72s - loss: 0.3565 - accuracy: 0.8754 - 72s/epoch - 92ms/step\n",
            "Epoch 10/15\n",
            "782/782 - 73s - loss: 0.3169 - accuracy: 0.8905 - 73s/epoch - 93ms/step\n",
            "Epoch 11/15\n",
            "782/782 - 73s - loss: 0.2792 - accuracy: 0.9027 - 73s/epoch - 93ms/step\n",
            "Epoch 12/15\n",
            "782/782 - 72s - loss: 0.2518 - accuracy: 0.9132 - 72s/epoch - 91ms/step\n",
            "Epoch 13/15\n",
            "782/782 - 73s - loss: 0.2166 - accuracy: 0.9250 - 73s/epoch - 93ms/step\n",
            "Epoch 14/15\n",
            "782/782 - 73s - loss: 0.1995 - accuracy: 0.9316 - 73s/epoch - 93ms/step\n",
            "Epoch 15/15\n",
            "782/782 - 73s - loss: 0.1748 - accuracy: 0.9386 - 73s/epoch - 93ms/step\n"
          ]
        },
        {
          "output_type": "execute_result",
          "data": {
            "text/plain": [
              "<keras.src.callbacks.History at 0x79cecc7d4430>"
            ]
          },
          "metadata": {},
          "execution_count": 48
        }
      ]
    },
    {
      "cell_type": "code",
      "source": [
        "model.evaluate(x_test, y_test, batch_size=64, verbose=2)"
      ],
      "metadata": {
        "colab": {
          "base_uri": "https://localhost:8080/"
        },
        "id": "mhbFJDDRUuo-",
        "outputId": "34cc7710-53d3-4c0e-8959-81ad305c574c"
      },
      "execution_count": null,
      "outputs": [
        {
          "output_type": "stream",
          "name": "stdout",
          "text": [
            "157/157 - 4s - loss: 1.2048 - accuracy: 0.7254 - 4s/epoch - 24ms/step\n"
          ]
        },
        {
          "output_type": "execute_result",
          "data": {
            "text/plain": [
              "[1.2048048973083496, 0.7253999710083008]"
            ]
          },
          "metadata": {},
          "execution_count": 49
        }
      ]
    },
    {
      "cell_type": "code",
      "source": [
        "model.evaluate(x_train, y_train, batch_size=64, verbose=2)"
      ],
      "metadata": {
        "colab": {
          "base_uri": "https://localhost:8080/"
        },
        "id": "Gy-rMFDHXs_I",
        "outputId": "5fc68497-1411-4ed4-9150-9dbfeecac4d0"
      },
      "execution_count": null,
      "outputs": [
        {
          "output_type": "stream",
          "name": "stdout",
          "text": [
            "782/782 - 19s - loss: 0.2571 - accuracy: 0.9119 - 19s/epoch - 24ms/step\n"
          ]
        },
        {
          "output_type": "execute_result",
          "data": {
            "text/plain": [
              "[0.2571173310279846, 0.9119200110435486]"
            ]
          },
          "metadata": {},
          "execution_count": 50
        }
      ]
    },
    {
      "cell_type": "code",
      "source": [],
      "metadata": {
        "id": "gR9KXN5cxUXl"
      },
      "execution_count": null,
      "outputs": []
    }
  ]
}