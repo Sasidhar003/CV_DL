{
  "nbformat": 4,
  "nbformat_minor": 0,
  "metadata": {
    "colab": {
      "provenance": [],
      "authorship_tag": "ABX9TyMotObwbXUku6HLIwR5Z5tL",
      "include_colab_link": true
    },
    "kernelspec": {
      "name": "python3",
      "display_name": "Python 3"
    },
    "language_info": {
      "name": "python"
    }
  },
  "cells": [
    {
      "cell_type": "markdown",
      "metadata": {
        "id": "view-in-github",
        "colab_type": "text"
      },
      "source": [
        "<a href=\"https://colab.research.google.com/github/Sasidhar003/CV_DL/blob/main/ANN_Tensorflow.ipynb\" target=\"_parent\"><img src=\"https://colab.research.google.com/assets/colab-badge.svg\" alt=\"Open In Colab\"/></a>"
      ]
    },
    {
      "cell_type": "code",
      "execution_count": null,
      "metadata": {
        "id": "73vfYfI7HaaD"
      },
      "outputs": [],
      "source": [
        "#imports\n",
        "import os\n",
        "import tensorflow as tf\n",
        "from tensorflow import keras\n",
        "from tensorflow.keras import layers\n",
        "from tensorflow.keras.datasets import mnist"
      ]
    },
    {
      "cell_type": "code",
      "source": [
        "(x_train, y_train), (x_test, y_test) = mnist.load_data()"
      ],
      "metadata": {
        "colab": {
          "base_uri": "https://localhost:8080/"
        },
        "id": "24vvIZ97Ia2g",
        "outputId": "9bced307-dee7-42b6-aa81-ac314e6718a5"
      },
      "execution_count": null,
      "outputs": [
        {
          "output_type": "stream",
          "name": "stdout",
          "text": [
            "Downloading data from https://storage.googleapis.com/tensorflow/tf-keras-datasets/mnist.npz\n",
            "11490434/11490434 [==============================] - 0s 0us/step\n"
          ]
        }
      ]
    },
    {
      "cell_type": "code",
      "source": [
        "x_train.shape"
      ],
      "metadata": {
        "colab": {
          "base_uri": "https://localhost:8080/"
        },
        "id": "A7ucfYnKIxiK",
        "outputId": "2444b2af-2912-4712-e3df-e9cf47158f4f"
      },
      "execution_count": null,
      "outputs": [
        {
          "output_type": "execute_result",
          "data": {
            "text/plain": [
              "(60000, 28, 28)"
            ]
          },
          "metadata": {},
          "execution_count": 4
        }
      ]
    },
    {
      "cell_type": "code",
      "source": [
        "y_train.shape\n"
      ],
      "metadata": {
        "colab": {
          "base_uri": "https://localhost:8080/"
        },
        "id": "o9E5FLmrI21i",
        "outputId": "664e46bc-84d8-4eb1-d8ce-d75e3ef0a3d6"
      },
      "execution_count": null,
      "outputs": [
        {
          "output_type": "execute_result",
          "data": {
            "text/plain": [
              "(60000,)"
            ]
          },
          "metadata": {},
          "execution_count": 5
        }
      ]
    },
    {
      "cell_type": "code",
      "source": [
        "x_train = x_train.reshape(-1, 28*28).astype(\"float32\")/255.0\n",
        "x_test = x_test.reshape(-1, 28*28).astype(\"float32\")/255.0"
      ],
      "metadata": {
        "id": "3bwOLDgdJawX"
      },
      "execution_count": null,
      "outputs": []
    },
    {
      "cell_type": "code",
      "source": [
        "inputs = keras.Input(shape=(784))\n",
        "x=layers.Dense(512, activation=\"relu\", name = 'first_layer')(inputs)\n",
        "x=layers.Dense(256, activation=\"relu\", name = \"second_layer\")(x)\n",
        "outputs = layers.Dense(10,activation = \"softmax\")(x)\n",
        "model = keras.Model(inputs = inputs, outputs = outputs)"
      ],
      "metadata": {
        "id": "j3TBS5txK2Th"
      },
      "execution_count": null,
      "outputs": []
    },
    {
      "cell_type": "code",
      "source": [
        "model.compile(\n",
        "    loss = keras.losses.SparseCategoricalCrossentropy(from_logits=False),\n",
        "    optimizer = keras.optimizers.Adam(lr = 0.001),\n",
        "    metrics = [\"accuracy\"]\n",
        "\n",
        ")"
      ],
      "metadata": {
        "colab": {
          "base_uri": "https://localhost:8080/"
        },
        "id": "mjJtZ1MwMpIg",
        "outputId": "5af5f5cb-cd72-440e-add2-e276a95885b8"
      },
      "execution_count": null,
      "outputs": [
        {
          "output_type": "stream",
          "name": "stderr",
          "text": [
            "WARNING:absl:`lr` is deprecated in Keras optimizer, please use `learning_rate` or use the legacy optimizer, e.g.,tf.keras.optimizers.legacy.Adam.\n"
          ]
        }
      ]
    },
    {
      "cell_type": "code",
      "source": [
        "model.fit(x_train, y_train, batch_size = 32, epochs = 5, verbose  =2)\n",
        "model.evaluate(x_test, y_test, batch_size=32, verbose=2)"
      ],
      "metadata": {
        "colab": {
          "base_uri": "https://localhost:8080/"
        },
        "id": "n7j0lUTyNdUd",
        "outputId": "133bf532-62c4-4964-fe41-9513b871a9fa"
      },
      "execution_count": null,
      "outputs": [
        {
          "output_type": "stream",
          "name": "stdout",
          "text": [
            "Epoch 1/5\n",
            "1875/1875 - 15s - loss: 0.1841 - accuracy: 0.9439 - 15s/epoch - 8ms/step\n",
            "Epoch 2/5\n",
            "1875/1875 - 15s - loss: 0.0799 - accuracy: 0.9749 - 15s/epoch - 8ms/step\n",
            "Epoch 3/5\n",
            "1875/1875 - 14s - loss: 0.0541 - accuracy: 0.9827 - 14s/epoch - 8ms/step\n",
            "Epoch 4/5\n",
            "1875/1875 - 14s - loss: 0.0411 - accuracy: 0.9871 - 14s/epoch - 8ms/step\n",
            "Epoch 5/5\n",
            "1875/1875 - 14s - loss: 0.0329 - accuracy: 0.9898 - 14s/epoch - 8ms/step\n",
            "313/313 - 1s - loss: 0.0762 - accuracy: 0.9797 - 978ms/epoch - 3ms/step\n"
          ]
        },
        {
          "output_type": "execute_result",
          "data": {
            "text/plain": [
              "[0.07620193064212799, 0.9797000288963318]"
            ]
          },
          "metadata": {},
          "execution_count": 10
        }
      ]
    },
    {
      "cell_type": "code",
      "source": [
        "import cv2\n",
        "from google.colab.patches import cv2_imshow\n",
        "\n",
        "test_img = cv2.imread(\"/content/seve2.png\")\n",
        "test_img  = cv2.cvtColor(test_img, cv2.COLOR_BGR2GRAY)\n",
        "print(test_img.shape)"
      ],
      "metadata": {
        "colab": {
          "base_uri": "https://localhost:8080/"
        },
        "id": "aK7677DXN-2w",
        "outputId": "45b5f893-1839-4a28-df25-2807235d0117"
      },
      "execution_count": null,
      "outputs": [
        {
          "output_type": "stream",
          "name": "stdout",
          "text": [
            "(1480, 1490)\n"
          ]
        }
      ]
    },
    {
      "cell_type": "code",
      "source": [
        "resized_img = cv2.resize(test_img,(28,28))"
      ],
      "metadata": {
        "id": "2pZgCyMVPNI5"
      },
      "execution_count": null,
      "outputs": []
    },
    {
      "cell_type": "code",
      "source": [
        "cv2_imshow(resized_img)"
      ],
      "metadata": {
        "colab": {
          "base_uri": "https://localhost:8080/",
          "height": 45
        },
        "id": "NbfYdUiOQGKe",
        "outputId": "05a80169-cab0-46ac-ec3e-8cc0683753d6"
      },
      "execution_count": null,
      "outputs": [
        {
          "output_type": "display_data",
          "data": {
            "text/plain": [
              "<PIL.Image.Image image mode=L size=28x28>"
            ],
            "image/png": "[encoded data removed]"
          },
          "metadata": {}
        }
      ]
    },
    {
      "cell_type": "code",
      "source": [
        "import numpy as np"
      ],
      "metadata": {
        "id": "dU6HQq5iQMeD"
      },
      "execution_count": null,
      "outputs": []
    },
    {
      "cell_type": "code",
      "source": [
        "data = np.reshape(resized_img, (1, 28*28))"
      ],
      "metadata": {
        "id": "JRTfAA2CR2Qa"
      },
      "execution_count": null,
      "outputs": []
    },
    {
      "cell_type": "code",
      "source": [
        "print(data.shape)"
      ],
      "metadata": {
        "colab": {
          "base_uri": "https://localhost:8080/"
        },
        "id": "hNj4DjLGSBq0",
        "outputId": "a54e1687-eaad-4b9c-a628-1375d862607d"
      },
      "execution_count": null,
      "outputs": [
        {
          "output_type": "stream",
          "name": "stdout",
          "text": [
            "(1, 784)\n"
          ]
        }
      ]
    },
    {
      "cell_type": "code",
      "source": [
        "output = model.predict(data)"
      ],
      "metadata": {
        "colab": {
          "base_uri": "https://localhost:8080/"
        },
        "id": "0UcN01SwSH38",
        "outputId": "55b5fba7-7642-4c16-836f-12f6ecd60f1b"
      },
      "execution_count": null,
      "outputs": [
        {
          "output_type": "stream",
          "name": "stdout",
          "text": [
            "1/1 [==============================] - 0s 92ms/step\n"
          ]
        }
      ]
    },
    {
      "cell_type": "code",
      "source": [
        "print(output)"
      ],
      "metadata": {
        "id": "WGVjPUpPSO6P",
        "outputId": "e96c8fc9-87a7-4497-e1d2-d125e8de47d7",
        "colab": {
          "base_uri": "https://localhost:8080/"
        }
      },
      "execution_count": null,
      "outputs": [
        {
          "output_type": "stream",
          "name": "stdout",
          "text": [
            "[[0. 0. 0. 0. 0. 0. 0. 1. 0. 0.]]\n"
          ]
        }
      ]
    },
    {
      "cell_type": "code",
      "source": [],
      "metadata": {
        "id": "OI1-6SGcSSeB"
      },
      "execution_count": null,
      "outputs": []
    }
  ]
}